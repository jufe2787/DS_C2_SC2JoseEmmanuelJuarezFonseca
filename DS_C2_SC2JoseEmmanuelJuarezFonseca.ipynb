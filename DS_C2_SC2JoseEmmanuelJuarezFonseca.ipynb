{
  "nbformat": 4,
  "nbformat_minor": 0,
  "metadata": {
    "colab": {
      "provenance": [],
      "authorship_tag": "ABX9TyM9OkU1vxBTT0ICyxSoMeFz",
      "include_colab_link": true
    },
    "kernelspec": {
      "name": "python3",
      "display_name": "Python 3"
    },
    "language_info": {
      "name": "python"
    }
  },
  "cells": [
    {
      "cell_type": "markdown",
      "metadata": {
        "id": "view-in-github",
        "colab_type": "text"
      },
      "source": [
        "<a href=\"https://colab.research.google.com/github/jufe2787/DS_C2_SC2JoseEmmanuelJuarezFonseca/blob/main/DS_C2_SC2JoseEmmanuelJuarezFonseca.ipynb\" target=\"_parent\"><img src=\"https://colab.research.google.com/assets/colab-badge.svg\" alt=\"Open In Colab\"/></a>"
      ]
    },
    {
      "cell_type": "markdown",
      "source": [
        "a. Extraer la información del archivo."
      ],
      "metadata": {
        "id": "SyXyLGiwvZuU"
      }
    },
    {
      "cell_type": "code",
      "execution_count": 43,
      "metadata": {
        "id": "z38WClE4tfCr"
      },
      "outputs": [],
      "source": [
        "import pandas as pd\n",
        "import numpy as np\n",
        "\n",
        "dframe = pd.read_csv(\"country_vaccinations.csv\")"
      ]
    },
    {
      "cell_type": "markdown",
      "source": [
        "b. Conversion de fecha a tipo de dato datetime64 y mostrar esctructura de datos por columna"
      ],
      "metadata": {
        "id": "b_wM0P5Av8tK"
      }
    },
    {
      "cell_type": "code",
      "source": [
        "dframe[\"date\"] = pd.to_datetime(dframe[\"date\"])\n",
        "dframe.info()"
      ],
      "metadata": {
        "id": "DdkNVMJQwDYU",
        "colab": {
          "base_uri": "https://localhost:8080/"
        },
        "outputId": "ac552348-6deb-4ef6-abe4-5a0cb0fa9cc5"
      },
      "execution_count": 44,
      "outputs": [
        {
          "output_type": "stream",
          "name": "stdout",
          "text": [
            "<class 'pandas.core.frame.DataFrame'>\n",
            "RangeIndex: 86512 entries, 0 to 86511\n",
            "Data columns (total 15 columns):\n",
            " #   Column                               Non-Null Count  Dtype         \n",
            "---  ------                               --------------  -----         \n",
            " 0   country                              86512 non-null  object        \n",
            " 1   iso_code                             86512 non-null  object        \n",
            " 2   date                                 86512 non-null  datetime64[ns]\n",
            " 3   total_vaccinations                   43607 non-null  float64       \n",
            " 4   people_vaccinated                    41294 non-null  float64       \n",
            " 5   people_fully_vaccinated              38802 non-null  float64       \n",
            " 6   daily_vaccinations_raw               35362 non-null  float64       \n",
            " 7   daily_vaccinations                   86213 non-null  float64       \n",
            " 8   total_vaccinations_per_hundred       43607 non-null  float64       \n",
            " 9   people_vaccinated_per_hundred        41294 non-null  float64       \n",
            " 10  people_fully_vaccinated_per_hundred  38802 non-null  float64       \n",
            " 11  daily_vaccinations_per_million       86213 non-null  float64       \n",
            " 12  vaccines                             86512 non-null  object        \n",
            " 13  source_name                          86512 non-null  object        \n",
            " 14  source_website                       86512 non-null  object        \n",
            "dtypes: datetime64[ns](1), float64(9), object(5)\n",
            "memory usage: 9.9+ MB\n"
          ]
        }
      ]
    },
    {
      "cell_type": "markdown",
      "source": [
        "c. Determinar la cantidad de vacunas aplicadas de cada compañía"
      ],
      "metadata": {
        "id": "6PcVQjTYuf6H"
      }
    },
    {
      "cell_type": "code",
      "source": [
        "dframe[[\"vaccines\", \"total_vaccinations\"]].groupby(\"vaccines\").sum()"
      ],
      "metadata": {
        "id": "R9sLtojNumSo",
        "colab": {
          "base_uri": "https://localhost:8080/",
          "height": 455
        },
        "outputId": "d07162e8-5b8a-4286-e30a-bff379d9ce69"
      },
      "execution_count": 45,
      "outputs": [
        {
          "output_type": "execute_result",
          "data": {
            "text/plain": [
              "                                                    total_vaccinations\n",
              "vaccines                                                              \n",
              "Abdala, Johnson&Johnson, Oxford/AstraZeneca, Pf...        1.784348e+08\n",
              "Abdala, Moderna, Oxford/AstraZeneca, Pfizer/Bio...        1.791450e+10\n",
              "Abdala, Sinopharm/Beijing, Sinovac, Soberana02,...        4.228568e+08\n",
              "Abdala, Soberana Plus, Soberana02                         6.405166e+09\n",
              "COVIran Barekat, Covaxin, FAKHRAVAC, Oxford/Ast...        1.069480e+10\n",
              "...                                                                ...\n",
              "Pfizer/BioNTech, Sinovac, Turkovac                        3.392310e+10\n",
              "Pfizer/BioNTech, Sputnik V                                3.863380e+06\n",
              "QazVac, Sinopharm/Beijing, Sputnik V                      3.585429e+09\n",
              "Sinopharm/Beijing                                         3.080671e+07\n",
              "Sinopharm/Beijing, Sputnik V                              6.451243e+08\n",
              "\n",
              "[84 rows x 1 columns]"
            ],
            "text/html": [
              "\n",
              "  <div id=\"df-c1c17f1f-9206-44b0-accc-0348e4c197c7\" class=\"colab-df-container\">\n",
              "    <div>\n",
              "<style scoped>\n",
              "    .dataframe tbody tr th:only-of-type {\n",
              "        vertical-align: middle;\n",
              "    }\n",
              "\n",
              "    .dataframe tbody tr th {\n",
              "        vertical-align: top;\n",
              "    }\n",
              "\n",
              "    .dataframe thead th {\n",
              "        text-align: right;\n",
              "    }\n",
              "</style>\n",
              "<table border=\"1\" class=\"dataframe\">\n",
              "  <thead>\n",
              "    <tr style=\"text-align: right;\">\n",
              "      <th></th>\n",
              "      <th>total_vaccinations</th>\n",
              "    </tr>\n",
              "    <tr>\n",
              "      <th>vaccines</th>\n",
              "      <th></th>\n",
              "    </tr>\n",
              "  </thead>\n",
              "  <tbody>\n",
              "    <tr>\n",
              "      <th>Abdala, Johnson&amp;Johnson, Oxford/AstraZeneca, Pfizer/BioNTech, Soberana02, Sputnik Light, Sputnik V</th>\n",
              "      <td>1.784348e+08</td>\n",
              "    </tr>\n",
              "    <tr>\n",
              "      <th>Abdala, Moderna, Oxford/AstraZeneca, Pfizer/BioNTech, Sinopharm/Beijing, Sputnik V</th>\n",
              "      <td>1.791450e+10</td>\n",
              "    </tr>\n",
              "    <tr>\n",
              "      <th>Abdala, Sinopharm/Beijing, Sinovac, Soberana02, Sputnik Light, Sputnik V</th>\n",
              "      <td>4.228568e+08</td>\n",
              "    </tr>\n",
              "    <tr>\n",
              "      <th>Abdala, Soberana Plus, Soberana02</th>\n",
              "      <td>6.405166e+09</td>\n",
              "    </tr>\n",
              "    <tr>\n",
              "      <th>COVIran Barekat, Covaxin, FAKHRAVAC, Oxford/AstraZeneca, Razi Cov Pars, Sinopharm/Beijing, Soberana02, SpikoGen, Sputnik V</th>\n",
              "      <td>1.069480e+10</td>\n",
              "    </tr>\n",
              "    <tr>\n",
              "      <th>...</th>\n",
              "      <td>...</td>\n",
              "    </tr>\n",
              "    <tr>\n",
              "      <th>Pfizer/BioNTech, Sinovac, Turkovac</th>\n",
              "      <td>3.392310e+10</td>\n",
              "    </tr>\n",
              "    <tr>\n",
              "      <th>Pfizer/BioNTech, Sputnik V</th>\n",
              "      <td>3.863380e+06</td>\n",
              "    </tr>\n",
              "    <tr>\n",
              "      <th>QazVac, Sinopharm/Beijing, Sputnik V</th>\n",
              "      <td>3.585429e+09</td>\n",
              "    </tr>\n",
              "    <tr>\n",
              "      <th>Sinopharm/Beijing</th>\n",
              "      <td>3.080671e+07</td>\n",
              "    </tr>\n",
              "    <tr>\n",
              "      <th>Sinopharm/Beijing, Sputnik V</th>\n",
              "      <td>6.451243e+08</td>\n",
              "    </tr>\n",
              "  </tbody>\n",
              "</table>\n",
              "<p>84 rows × 1 columns</p>\n",
              "</div>\n",
              "    <div class=\"colab-df-buttons\">\n",
              "\n",
              "  <div class=\"colab-df-container\">\n",
              "    <button class=\"colab-df-convert\" onclick=\"convertToInteractive('df-c1c17f1f-9206-44b0-accc-0348e4c197c7')\"\n",
              "            title=\"Convert this dataframe to an interactive table.\"\n",
              "            style=\"display:none;\">\n",
              "\n",
              "  <svg xmlns=\"http://www.w3.org/2000/svg\" height=\"24px\" viewBox=\"0 -960 960 960\">\n",
              "    <path d=\"M120-120v-720h720v720H120Zm60-500h600v-160H180v160Zm220 220h160v-160H400v160Zm0 220h160v-160H400v160ZM180-400h160v-160H180v160Zm440 0h160v-160H620v160ZM180-180h160v-160H180v160Zm440 0h160v-160H620v160Z\"/>\n",
              "  </svg>\n",
              "    </button>\n",
              "\n",
              "  <style>\n",
              "    .colab-df-container {\n",
              "      display:flex;\n",
              "      gap: 12px;\n",
              "    }\n",
              "\n",
              "    .colab-df-convert {\n",
              "      background-color: #E8F0FE;\n",
              "      border: none;\n",
              "      border-radius: 50%;\n",
              "      cursor: pointer;\n",
              "      display: none;\n",
              "      fill: #1967D2;\n",
              "      height: 32px;\n",
              "      padding: 0 0 0 0;\n",
              "      width: 32px;\n",
              "    }\n",
              "\n",
              "    .colab-df-convert:hover {\n",
              "      background-color: #E2EBFA;\n",
              "      box-shadow: 0px 1px 2px rgba(60, 64, 67, 0.3), 0px 1px 3px 1px rgba(60, 64, 67, 0.15);\n",
              "      fill: #174EA6;\n",
              "    }\n",
              "\n",
              "    .colab-df-buttons div {\n",
              "      margin-bottom: 4px;\n",
              "    }\n",
              "\n",
              "    [theme=dark] .colab-df-convert {\n",
              "      background-color: #3B4455;\n",
              "      fill: #D2E3FC;\n",
              "    }\n",
              "\n",
              "    [theme=dark] .colab-df-convert:hover {\n",
              "      background-color: #434B5C;\n",
              "      box-shadow: 0px 1px 3px 1px rgba(0, 0, 0, 0.15);\n",
              "      filter: drop-shadow(0px 1px 2px rgba(0, 0, 0, 0.3));\n",
              "      fill: #FFFFFF;\n",
              "    }\n",
              "  </style>\n",
              "\n",
              "    <script>\n",
              "      const buttonEl =\n",
              "        document.querySelector('#df-c1c17f1f-9206-44b0-accc-0348e4c197c7 button.colab-df-convert');\n",
              "      buttonEl.style.display =\n",
              "        google.colab.kernel.accessAllowed ? 'block' : 'none';\n",
              "\n",
              "      async function convertToInteractive(key) {\n",
              "        const element = document.querySelector('#df-c1c17f1f-9206-44b0-accc-0348e4c197c7');\n",
              "        const dataTable =\n",
              "          await google.colab.kernel.invokeFunction('convertToInteractive',\n",
              "                                                    [key], {});\n",
              "        if (!dataTable) return;\n",
              "\n",
              "        const docLinkHtml = 'Like what you see? Visit the ' +\n",
              "          '<a target=\"_blank\" href=https://colab.research.google.com/notebooks/data_table.ipynb>data table notebook</a>'\n",
              "          + ' to learn more about interactive tables.';\n",
              "        element.innerHTML = '';\n",
              "        dataTable['output_type'] = 'display_data';\n",
              "        await google.colab.output.renderOutput(dataTable, element);\n",
              "        const docLink = document.createElement('div');\n",
              "        docLink.innerHTML = docLinkHtml;\n",
              "        element.appendChild(docLink);\n",
              "      }\n",
              "    </script>\n",
              "  </div>\n",
              "\n",
              "\n",
              "<div id=\"df-804aee78-e6a0-402d-b0d6-ad8672f089eb\">\n",
              "  <button class=\"colab-df-quickchart\" onclick=\"quickchart('df-804aee78-e6a0-402d-b0d6-ad8672f089eb')\"\n",
              "            title=\"Suggest charts.\"\n",
              "            style=\"display:none;\">\n",
              "\n",
              "<svg xmlns=\"http://www.w3.org/2000/svg\" height=\"24px\"viewBox=\"0 0 24 24\"\n",
              "     width=\"24px\">\n",
              "    <g>\n",
              "        <path d=\"M19 3H5c-1.1 0-2 .9-2 2v14c0 1.1.9 2 2 2h14c1.1 0 2-.9 2-2V5c0-1.1-.9-2-2-2zM9 17H7v-7h2v7zm4 0h-2V7h2v10zm4 0h-2v-4h2v4z\"/>\n",
              "    </g>\n",
              "</svg>\n",
              "  </button>\n",
              "\n",
              "<style>\n",
              "  .colab-df-quickchart {\n",
              "    background-color: #E8F0FE;\n",
              "    border: none;\n",
              "    border-radius: 50%;\n",
              "    cursor: pointer;\n",
              "    display: none;\n",
              "    fill: #1967D2;\n",
              "    height: 32px;\n",
              "    padding: 0 0 0 0;\n",
              "    width: 32px;\n",
              "  }\n",
              "\n",
              "  .colab-df-quickchart:hover {\n",
              "    background-color: #E2EBFA;\n",
              "    box-shadow: 0px 1px 2px rgba(60, 64, 67, 0.3), 0px 1px 3px 1px rgba(60, 64, 67, 0.15);\n",
              "    fill: #174EA6;\n",
              "  }\n",
              "\n",
              "  [theme=dark] .colab-df-quickchart {\n",
              "    background-color: #3B4455;\n",
              "    fill: #D2E3FC;\n",
              "  }\n",
              "\n",
              "  [theme=dark] .colab-df-quickchart:hover {\n",
              "    background-color: #434B5C;\n",
              "    box-shadow: 0px 1px 3px 1px rgba(0, 0, 0, 0.15);\n",
              "    filter: drop-shadow(0px 1px 2px rgba(0, 0, 0, 0.3));\n",
              "    fill: #FFFFFF;\n",
              "  }\n",
              "</style>\n",
              "\n",
              "  <script>\n",
              "    async function quickchart(key) {\n",
              "      const charts = await google.colab.kernel.invokeFunction(\n",
              "          'suggestCharts', [key], {});\n",
              "    }\n",
              "    (() => {\n",
              "      let quickchartButtonEl =\n",
              "        document.querySelector('#df-804aee78-e6a0-402d-b0d6-ad8672f089eb button');\n",
              "      quickchartButtonEl.style.display =\n",
              "        google.colab.kernel.accessAllowed ? 'block' : 'none';\n",
              "    })();\n",
              "  </script>\n",
              "</div>\n",
              "    </div>\n",
              "  </div>\n"
            ]
          },
          "metadata": {},
          "execution_count": 45
        }
      ]
    },
    {
      "cell_type": "markdown",
      "source": [
        "d. Obtener la cantidad de vacunas aplicadas en todo el mundo."
      ],
      "metadata": {
        "id": "65c0OKY3xfQ-"
      }
    },
    {
      "cell_type": "code",
      "source": [
        "dframe[\"daily_vaccinations\"].sum()"
      ],
      "metadata": {
        "id": "n3KhViW1xgz2",
        "colab": {
          "base_uri": "https://localhost:8080/"
        },
        "outputId": "94cb5d85-b5bb-4107-dd27-943e45a66b34"
      },
      "execution_count": 30,
      "outputs": [
        {
          "output_type": "execute_result",
          "data": {
            "text/plain": [
              "11320239871.0"
            ]
          },
          "metadata": {},
          "execution_count": 30
        }
      ]
    },
    {
      "cell_type": "markdown",
      "source": [
        "e. Calcular el promedio de vacunas aplicadas por país."
      ],
      "metadata": {
        "id": "f161nVWxvsFF"
      }
    },
    {
      "cell_type": "code",
      "source": [
        "dframe[[\"country\", \"total_vaccinations\"]].groupby(\"country\").mean()"
      ],
      "metadata": {
        "id": "IlFspHWQvvOl"
      },
      "execution_count": null,
      "outputs": []
    },
    {
      "cell_type": "markdown",
      "source": [
        "f. Determinar la cantidad de vacunas aplicadas el día 29/01/21 en todo el mundo."
      ],
      "metadata": {
        "id": "xRkdJ607w-4A"
      }
    },
    {
      "cell_type": "code",
      "source": [
        "dframe[(dframe[\"date\"] == \"2021-01-21\")][\"daily_vaccinations\"].sum()"
      ],
      "metadata": {
        "id": "FU3fWf7IxGLP",
        "colab": {
          "base_uri": "https://localhost:8080/"
        },
        "outputId": "b57279ae-df68-4712-9f85-8447fce55fa3"
      },
      "execution_count": 32,
      "outputs": [
        {
          "output_type": "execute_result",
          "data": {
            "text/plain": [
              "3846182.0"
            ]
          },
          "metadata": {},
          "execution_count": 32
        }
      ]
    },
    {
      "cell_type": "markdown",
      "source": [
        "g. Crear un dataframe nuevo denominado conDiferencias"
      ],
      "metadata": {
        "id": "WmlCL9o2zGjo"
      }
    },
    {
      "cell_type": "code",
      "source": [
        "conDiferencias = dframe.copy()\n",
        "conDiferencias[\"Diferencias\"] = conDiferencias[\"daily_vaccinations\"] - conDiferencias[\"daily_vaccinations_raw\"]"
      ],
      "metadata": {
        "id": "oVlYbAuKzKkY"
      },
      "execution_count": 51,
      "outputs": []
    },
    {
      "cell_type": "markdown",
      "source": [
        "h. Obtener el periodo de tiempo entre el registro con fecha más reciente y el registro con fecha más antigua."
      ],
      "metadata": {
        "id": "-8XHjPWS2-5U"
      }
    },
    {
      "cell_type": "code",
      "source": [
        "periodo_tiempo = dframe[\"date\"].max() - dframe[\"date\"].min()\n",
        "print(periodo_tiempo)"
      ],
      "metadata": {
        "id": "fRhoujxh3Avq",
        "colab": {
          "base_uri": "https://localhost:8080/"
        },
        "outputId": "535a973e-bea6-4589-b721-1e491a8742d2"
      },
      "execution_count": 34,
      "outputs": [
        {
          "output_type": "stream",
          "name": "stdout",
          "text": [
            "482 days 00:00:00\n"
          ]
        }
      ]
    },
    {
      "cell_type": "markdown",
      "source": [
        "i. Crear un dataframe nuevo denominado conCantidad que contenga los datos originales y una columna derivada (canVac) con la cantidad de vacunas utilizadas cada día"
      ],
      "metadata": {
        "id": "ws5xmhI33u4x"
      }
    },
    {
      "cell_type": "code",
      "source": [
        "conCantidad = dframe.copy()\n",
        "conCantidad[\"canVac\"] = conCantidad[\"vaccines\"].str.split(\",\").str.len()\n"
      ],
      "metadata": {
        "id": "QLd3Z0hk3wm8"
      },
      "execution_count": 52,
      "outputs": []
    },
    {
      "cell_type": "markdown",
      "source": [
        "j. Generar un dataframe denominado antes20 con todos los registros que se hayan realizado antes del 20 de diciembre de 2020."
      ],
      "metadata": {
        "id": "xmmpe0ek57zA"
      }
    },
    {
      "cell_type": "code",
      "source": [
        "antes20 = dframe.copy()\n",
        "antes20 = antes20[antes20[\"date\"] < \"2020-12-20\"]\n",
        "antes20.head(5)"
      ],
      "metadata": {
        "id": "emyjQfaS5-Cz",
        "colab": {
          "base_uri": "https://localhost:8080/",
          "height": 487
        },
        "outputId": "ebc65010-25ca-44ec-9962-8f92eb69b4d8"
      },
      "execution_count": 53,
      "outputs": [
        {
          "output_type": "execute_result",
          "data": {
            "text/plain": [
              "      country iso_code       date  total_vaccinations  people_vaccinated  \\\n",
              "13403  Canada      CAN 2020-12-14                 5.0                5.0   \n",
              "13404  Canada      CAN 2020-12-15               727.0              727.0   \n",
              "13405  Canada      CAN 2020-12-16              3025.0             3025.0   \n",
              "13406  Canada      CAN 2020-12-17              7279.0             7279.0   \n",
              "13407  Canada      CAN 2020-12-18             11296.0            11296.0   \n",
              "\n",
              "       people_fully_vaccinated  daily_vaccinations_raw  daily_vaccinations  \\\n",
              "13403                      NaN                     NaN                 NaN   \n",
              "13404                      NaN                   722.0               722.0   \n",
              "13405                      NaN                  2298.0              1510.0   \n",
              "13406                      NaN                  4254.0              2425.0   \n",
              "13407                      NaN                  4017.0              2823.0   \n",
              "\n",
              "       total_vaccinations_per_hundred  people_vaccinated_per_hundred  \\\n",
              "13403                            0.00                           0.00   \n",
              "13404                            0.00                           0.00   \n",
              "13405                            0.01                           0.01   \n",
              "13406                            0.02                           0.02   \n",
              "13407                            0.03                           0.03   \n",
              "\n",
              "       people_fully_vaccinated_per_hundred  daily_vaccinations_per_million  \\\n",
              "13403                                  NaN                             NaN   \n",
              "13404                                  NaN                            19.0   \n",
              "13405                                  NaN                            40.0   \n",
              "13406                                  NaN                            64.0   \n",
              "13407                                  NaN                            74.0   \n",
              "\n",
              "                                                vaccines  \\\n",
              "13403  Johnson&Johnson, Moderna, Oxford/AstraZeneca, ...   \n",
              "13404  Johnson&Johnson, Moderna, Oxford/AstraZeneca, ...   \n",
              "13405  Johnson&Johnson, Moderna, Oxford/AstraZeneca, ...   \n",
              "13406  Johnson&Johnson, Moderna, Oxford/AstraZeneca, ...   \n",
              "13407  Johnson&Johnson, Moderna, Oxford/AstraZeneca, ...   \n",
              "\n",
              "                                             source_name  \\\n",
              "13403  Official data from provinces via covid19tracke...   \n",
              "13404  Official data from provinces via covid19tracke...   \n",
              "13405  Official data from provinces via covid19tracke...   \n",
              "13406  Official data from provinces via covid19tracke...   \n",
              "13407  Official data from provinces via covid19tracke...   \n",
              "\n",
              "                                          source_website  \n",
              "13403  https://covid19tracker.ca/vaccinationtracker.html  \n",
              "13404  https://covid19tracker.ca/vaccinationtracker.html  \n",
              "13405  https://covid19tracker.ca/vaccinationtracker.html  \n",
              "13406  https://covid19tracker.ca/vaccinationtracker.html  \n",
              "13407  https://covid19tracker.ca/vaccinationtracker.html  "
            ],
            "text/html": [
              "\n",
              "  <div id=\"df-e59df985-c3fa-4ea7-9a05-b839bfd328dd\" class=\"colab-df-container\">\n",
              "    <div>\n",
              "<style scoped>\n",
              "    .dataframe tbody tr th:only-of-type {\n",
              "        vertical-align: middle;\n",
              "    }\n",
              "\n",
              "    .dataframe tbody tr th {\n",
              "        vertical-align: top;\n",
              "    }\n",
              "\n",
              "    .dataframe thead th {\n",
              "        text-align: right;\n",
              "    }\n",
              "</style>\n",
              "<table border=\"1\" class=\"dataframe\">\n",
              "  <thead>\n",
              "    <tr style=\"text-align: right;\">\n",
              "      <th></th>\n",
              "      <th>country</th>\n",
              "      <th>iso_code</th>\n",
              "      <th>date</th>\n",
              "      <th>total_vaccinations</th>\n",
              "      <th>people_vaccinated</th>\n",
              "      <th>people_fully_vaccinated</th>\n",
              "      <th>daily_vaccinations_raw</th>\n",
              "      <th>daily_vaccinations</th>\n",
              "      <th>total_vaccinations_per_hundred</th>\n",
              "      <th>people_vaccinated_per_hundred</th>\n",
              "      <th>people_fully_vaccinated_per_hundred</th>\n",
              "      <th>daily_vaccinations_per_million</th>\n",
              "      <th>vaccines</th>\n",
              "      <th>source_name</th>\n",
              "      <th>source_website</th>\n",
              "    </tr>\n",
              "  </thead>\n",
              "  <tbody>\n",
              "    <tr>\n",
              "      <th>13403</th>\n",
              "      <td>Canada</td>\n",
              "      <td>CAN</td>\n",
              "      <td>2020-12-14</td>\n",
              "      <td>5.0</td>\n",
              "      <td>5.0</td>\n",
              "      <td>NaN</td>\n",
              "      <td>NaN</td>\n",
              "      <td>NaN</td>\n",
              "      <td>0.00</td>\n",
              "      <td>0.00</td>\n",
              "      <td>NaN</td>\n",
              "      <td>NaN</td>\n",
              "      <td>Johnson&amp;Johnson, Moderna, Oxford/AstraZeneca, ...</td>\n",
              "      <td>Official data from provinces via covid19tracke...</td>\n",
              "      <td>https://covid19tracker.ca/vaccinationtracker.html</td>\n",
              "    </tr>\n",
              "    <tr>\n",
              "      <th>13404</th>\n",
              "      <td>Canada</td>\n",
              "      <td>CAN</td>\n",
              "      <td>2020-12-15</td>\n",
              "      <td>727.0</td>\n",
              "      <td>727.0</td>\n",
              "      <td>NaN</td>\n",
              "      <td>722.0</td>\n",
              "      <td>722.0</td>\n",
              "      <td>0.00</td>\n",
              "      <td>0.00</td>\n",
              "      <td>NaN</td>\n",
              "      <td>19.0</td>\n",
              "      <td>Johnson&amp;Johnson, Moderna, Oxford/AstraZeneca, ...</td>\n",
              "      <td>Official data from provinces via covid19tracke...</td>\n",
              "      <td>https://covid19tracker.ca/vaccinationtracker.html</td>\n",
              "    </tr>\n",
              "    <tr>\n",
              "      <th>13405</th>\n",
              "      <td>Canada</td>\n",
              "      <td>CAN</td>\n",
              "      <td>2020-12-16</td>\n",
              "      <td>3025.0</td>\n",
              "      <td>3025.0</td>\n",
              "      <td>NaN</td>\n",
              "      <td>2298.0</td>\n",
              "      <td>1510.0</td>\n",
              "      <td>0.01</td>\n",
              "      <td>0.01</td>\n",
              "      <td>NaN</td>\n",
              "      <td>40.0</td>\n",
              "      <td>Johnson&amp;Johnson, Moderna, Oxford/AstraZeneca, ...</td>\n",
              "      <td>Official data from provinces via covid19tracke...</td>\n",
              "      <td>https://covid19tracker.ca/vaccinationtracker.html</td>\n",
              "    </tr>\n",
              "    <tr>\n",
              "      <th>13406</th>\n",
              "      <td>Canada</td>\n",
              "      <td>CAN</td>\n",
              "      <td>2020-12-17</td>\n",
              "      <td>7279.0</td>\n",
              "      <td>7279.0</td>\n",
              "      <td>NaN</td>\n",
              "      <td>4254.0</td>\n",
              "      <td>2425.0</td>\n",
              "      <td>0.02</td>\n",
              "      <td>0.02</td>\n",
              "      <td>NaN</td>\n",
              "      <td>64.0</td>\n",
              "      <td>Johnson&amp;Johnson, Moderna, Oxford/AstraZeneca, ...</td>\n",
              "      <td>Official data from provinces via covid19tracke...</td>\n",
              "      <td>https://covid19tracker.ca/vaccinationtracker.html</td>\n",
              "    </tr>\n",
              "    <tr>\n",
              "      <th>13407</th>\n",
              "      <td>Canada</td>\n",
              "      <td>CAN</td>\n",
              "      <td>2020-12-18</td>\n",
              "      <td>11296.0</td>\n",
              "      <td>11296.0</td>\n",
              "      <td>NaN</td>\n",
              "      <td>4017.0</td>\n",
              "      <td>2823.0</td>\n",
              "      <td>0.03</td>\n",
              "      <td>0.03</td>\n",
              "      <td>NaN</td>\n",
              "      <td>74.0</td>\n",
              "      <td>Johnson&amp;Johnson, Moderna, Oxford/AstraZeneca, ...</td>\n",
              "      <td>Official data from provinces via covid19tracke...</td>\n",
              "      <td>https://covid19tracker.ca/vaccinationtracker.html</td>\n",
              "    </tr>\n",
              "  </tbody>\n",
              "</table>\n",
              "</div>\n",
              "    <div class=\"colab-df-buttons\">\n",
              "\n",
              "  <div class=\"colab-df-container\">\n",
              "    <button class=\"colab-df-convert\" onclick=\"convertToInteractive('df-e59df985-c3fa-4ea7-9a05-b839bfd328dd')\"\n",
              "            title=\"Convert this dataframe to an interactive table.\"\n",
              "            style=\"display:none;\">\n",
              "\n",
              "  <svg xmlns=\"http://www.w3.org/2000/svg\" height=\"24px\" viewBox=\"0 -960 960 960\">\n",
              "    <path d=\"M120-120v-720h720v720H120Zm60-500h600v-160H180v160Zm220 220h160v-160H400v160Zm0 220h160v-160H400v160ZM180-400h160v-160H180v160Zm440 0h160v-160H620v160ZM180-180h160v-160H180v160Zm440 0h160v-160H620v160Z\"/>\n",
              "  </svg>\n",
              "    </button>\n",
              "\n",
              "  <style>\n",
              "    .colab-df-container {\n",
              "      display:flex;\n",
              "      gap: 12px;\n",
              "    }\n",
              "\n",
              "    .colab-df-convert {\n",
              "      background-color: #E8F0FE;\n",
              "      border: none;\n",
              "      border-radius: 50%;\n",
              "      cursor: pointer;\n",
              "      display: none;\n",
              "      fill: #1967D2;\n",
              "      height: 32px;\n",
              "      padding: 0 0 0 0;\n",
              "      width: 32px;\n",
              "    }\n",
              "\n",
              "    .colab-df-convert:hover {\n",
              "      background-color: #E2EBFA;\n",
              "      box-shadow: 0px 1px 2px rgba(60, 64, 67, 0.3), 0px 1px 3px 1px rgba(60, 64, 67, 0.15);\n",
              "      fill: #174EA6;\n",
              "    }\n",
              "\n",
              "    .colab-df-buttons div {\n",
              "      margin-bottom: 4px;\n",
              "    }\n",
              "\n",
              "    [theme=dark] .colab-df-convert {\n",
              "      background-color: #3B4455;\n",
              "      fill: #D2E3FC;\n",
              "    }\n",
              "\n",
              "    [theme=dark] .colab-df-convert:hover {\n",
              "      background-color: #434B5C;\n",
              "      box-shadow: 0px 1px 3px 1px rgba(0, 0, 0, 0.15);\n",
              "      filter: drop-shadow(0px 1px 2px rgba(0, 0, 0, 0.3));\n",
              "      fill: #FFFFFF;\n",
              "    }\n",
              "  </style>\n",
              "\n",
              "    <script>\n",
              "      const buttonEl =\n",
              "        document.querySelector('#df-e59df985-c3fa-4ea7-9a05-b839bfd328dd button.colab-df-convert');\n",
              "      buttonEl.style.display =\n",
              "        google.colab.kernel.accessAllowed ? 'block' : 'none';\n",
              "\n",
              "      async function convertToInteractive(key) {\n",
              "        const element = document.querySelector('#df-e59df985-c3fa-4ea7-9a05-b839bfd328dd');\n",
              "        const dataTable =\n",
              "          await google.colab.kernel.invokeFunction('convertToInteractive',\n",
              "                                                    [key], {});\n",
              "        if (!dataTable) return;\n",
              "\n",
              "        const docLinkHtml = 'Like what you see? Visit the ' +\n",
              "          '<a target=\"_blank\" href=https://colab.research.google.com/notebooks/data_table.ipynb>data table notebook</a>'\n",
              "          + ' to learn more about interactive tables.';\n",
              "        element.innerHTML = '';\n",
              "        dataTable['output_type'] = 'display_data';\n",
              "        await google.colab.output.renderOutput(dataTable, element);\n",
              "        const docLink = document.createElement('div');\n",
              "        docLink.innerHTML = docLinkHtml;\n",
              "        element.appendChild(docLink);\n",
              "      }\n",
              "    </script>\n",
              "  </div>\n",
              "\n",
              "\n",
              "<div id=\"df-7a2f3fee-a1b8-491e-910b-10ff19b9e6a7\">\n",
              "  <button class=\"colab-df-quickchart\" onclick=\"quickchart('df-7a2f3fee-a1b8-491e-910b-10ff19b9e6a7')\"\n",
              "            title=\"Suggest charts.\"\n",
              "            style=\"display:none;\">\n",
              "\n",
              "<svg xmlns=\"http://www.w3.org/2000/svg\" height=\"24px\"viewBox=\"0 0 24 24\"\n",
              "     width=\"24px\">\n",
              "    <g>\n",
              "        <path d=\"M19 3H5c-1.1 0-2 .9-2 2v14c0 1.1.9 2 2 2h14c1.1 0 2-.9 2-2V5c0-1.1-.9-2-2-2zM9 17H7v-7h2v7zm4 0h-2V7h2v10zm4 0h-2v-4h2v4z\"/>\n",
              "    </g>\n",
              "</svg>\n",
              "  </button>\n",
              "\n",
              "<style>\n",
              "  .colab-df-quickchart {\n",
              "    background-color: #E8F0FE;\n",
              "    border: none;\n",
              "    border-radius: 50%;\n",
              "    cursor: pointer;\n",
              "    display: none;\n",
              "    fill: #1967D2;\n",
              "    height: 32px;\n",
              "    padding: 0 0 0 0;\n",
              "    width: 32px;\n",
              "  }\n",
              "\n",
              "  .colab-df-quickchart:hover {\n",
              "    background-color: #E2EBFA;\n",
              "    box-shadow: 0px 1px 2px rgba(60, 64, 67, 0.3), 0px 1px 3px 1px rgba(60, 64, 67, 0.15);\n",
              "    fill: #174EA6;\n",
              "  }\n",
              "\n",
              "  [theme=dark] .colab-df-quickchart {\n",
              "    background-color: #3B4455;\n",
              "    fill: #D2E3FC;\n",
              "  }\n",
              "\n",
              "  [theme=dark] .colab-df-quickchart:hover {\n",
              "    background-color: #434B5C;\n",
              "    box-shadow: 0px 1px 3px 1px rgba(0, 0, 0, 0.15);\n",
              "    filter: drop-shadow(0px 1px 2px rgba(0, 0, 0, 0.3));\n",
              "    fill: #FFFFFF;\n",
              "  }\n",
              "</style>\n",
              "\n",
              "  <script>\n",
              "    async function quickchart(key) {\n",
              "      const charts = await google.colab.kernel.invokeFunction(\n",
              "          'suggestCharts', [key], {});\n",
              "    }\n",
              "    (() => {\n",
              "      let quickchartButtonEl =\n",
              "        document.querySelector('#df-7a2f3fee-a1b8-491e-910b-10ff19b9e6a7 button');\n",
              "      quickchartButtonEl.style.display =\n",
              "        google.colab.kernel.accessAllowed ? 'block' : 'none';\n",
              "    })();\n",
              "  </script>\n",
              "</div>\n",
              "    </div>\n",
              "  </div>\n"
            ]
          },
          "metadata": {},
          "execution_count": 53
        }
      ]
    },
    {
      "cell_type": "markdown",
      "source": [
        "k. Obtener un dataframe denominado pfizer con todos los registros donde se haya utilizado la vacuna Pfizer."
      ],
      "metadata": {
        "id": "Rqcse9nf7P9B"
      }
    },
    {
      "cell_type": "code",
      "source": [
        "pfizer = dframe[dframe['vaccines'].str.contains('Pfizer', case = False)].copy()\n"
      ],
      "metadata": {
        "id": "vUmblwnXYn04"
      },
      "execution_count": 54,
      "outputs": []
    },
    {
      "cell_type": "markdown",
      "source": [
        "l. Almacenar los dataframes generados (conDiferencias, conCantidad, antes20 y pfizer) en un archivo de Excel"
      ],
      "metadata": {
        "id": "CpMWFLYu7Mdz"
      }
    },
    {
      "cell_type": "code",
      "source": [
        "with pd.ExcelWriter(\"resultadosReto.xlsx\") as writer:\n",
        "  conDiferencias.to_excel(writer, sheet_name = \"conDiferencias\")\n",
        "  conCantidad.to_excel(writer, sheet_name = \"conCantidad\")\n",
        "  antes20.to_excel(writer, sheet_name = \"antes20\")\n",
        "  pfizer.to_excel(writer, sheet_name = \"pfizer\")"
      ],
      "metadata": {
        "id": "5u5u5eyS7PPk"
      },
      "execution_count": 55,
      "outputs": []
    }
  ]
}